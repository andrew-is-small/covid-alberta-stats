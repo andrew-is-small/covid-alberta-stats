{
 "cells": [
  {
   "cell_type": "code",
   "execution_count": 17,
   "id": "c4a7be6b",
   "metadata": {},
   "outputs": [],
   "source": [
    "import pandas as pd\n",
    "import datetime"
   ]
  },
  {
   "cell_type": "code",
   "execution_count": 18,
   "id": "b3af77ac",
   "metadata": {},
   "outputs": [],
   "source": [
    "d_parser104 = lambda x: pd.datetime.strptime(x, '%Y-%m-%d')"
   ]
  },
  {
   "cell_type": "code",
   "execution_count": 19,
   "id": "5cbbbac7",
   "metadata": {},
   "outputs": [
    {
     "name": "stderr",
     "output_type": "stream",
     "text": [
      "<ipython-input-18-98693cc0102e>:1: FutureWarning: The pandas.datetime class is deprecated and will be removed from pandas in a future version. Import from datetime module instead.\n",
      "  d_parser104 = lambda x: pd.datetime.strptime(x, '%Y-%m-%d')\n"
     ]
    }
   ],
   "source": [
    "cov = pd.read_csv('data/alberta0522.csv', parse_dates=['Date reported'], date_parser = d_parser104)\n",
    "vac = pd.read_csv('data/vac0522.csv')"
   ]
  },
  {
   "cell_type": "code",
   "execution_count": 11,
   "id": "09563db7",
   "metadata": {},
   "outputs": [
    {
     "data": {
      "text/plain": [
       "Index(['Unnamed: 0', 'Date reported', 'Alberta Health Services Zone', 'Gender',\n",
       "       'Age group', 'Case status', 'Case type'],\n",
       "      dtype='object')"
      ]
     },
     "execution_count": 11,
     "metadata": {},
     "output_type": "execute_result"
    }
   ],
   "source": [
    "cov.columns"
   ]
  },
  {
   "cell_type": "code",
   "execution_count": 12,
   "id": "456b85c7",
   "metadata": {},
   "outputs": [],
   "source": [
    "# Drop the built-in index column\n",
    "cov = cov.drop(['Unnamed: 0'], axis=1)"
   ]
  },
  {
   "cell_type": "code",
   "execution_count": 13,
   "id": "0c720d4a",
   "metadata": {},
   "outputs": [
    {
     "data": {
      "text/plain": [
       "Index(['Local Code', 'Age Group', 'Population',\n",
       "       '# of population with at least 1 dose',\n",
       "       'Percent of population who received at least one dose',\n",
       "       '# of population fully immunized',\n",
       "       'Percent of population fully immunized', 'Local Name', 'Zone Name'],\n",
       "      dtype='object')"
      ]
     },
     "execution_count": 13,
     "metadata": {},
     "output_type": "execute_result"
    }
   ],
   "source": [
    "vac.columns"
   ]
  },
  {
   "cell_type": "code",
   "execution_count": null,
   "id": "efcf196d",
   "metadata": {},
   "outputs": [],
   "source": []
  }
 ],
 "metadata": {
  "kernelspec": {
   "display_name": "Python 3",
   "language": "python",
   "name": "python3"
  },
  "language_info": {
   "codemirror_mode": {
    "name": "ipython",
    "version": 3
   },
   "file_extension": ".py",
   "mimetype": "text/x-python",
   "name": "python",
   "nbconvert_exporter": "python",
   "pygments_lexer": "ipython3",
   "version": "3.9.1"
  }
 },
 "nbformat": 4,
 "nbformat_minor": 5
}
