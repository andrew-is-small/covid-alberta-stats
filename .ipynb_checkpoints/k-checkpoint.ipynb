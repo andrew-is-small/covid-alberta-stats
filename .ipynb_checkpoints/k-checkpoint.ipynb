{
 "cells": [
  {
   "cell_type": "markdown",
   "id": "c63e50a4",
   "metadata": {},
   "source": [
    "# Covid Data\n",
    "\n",
    "This uses a covid dataset for Alberta, Canada\n",
    "\n",
    "I'm just messing around with it so that I can learn data wrangling techniques in python. Maybe I'll do some classification problems but idk\n",
    "\n",
    "Currently uses pandas, numpy, matplotlib...yeah"
   ]
  },
  {
   "cell_type": "code",
   "execution_count": 2,
   "id": "476c4c1e",
   "metadata": {},
   "outputs": [],
   "source": [
    "import pandas as pd\n",
    "from datetime import datetime\n",
    "import matplotlib\n",
    "import matplotlib.pyplot as plt\n",
    "import numpy as np"
   ]
  },
  {
   "cell_type": "code",
   "execution_count": 3,
   "id": "ea6b42ac",
   "metadata": {},
   "outputs": [],
   "source": [
    "cov = pd.read_csv('data/alberta0522.csv')\n",
    "vac = pd.read_csv('data/vac0522.csv')"
   ]
  },
  {
   "cell_type": "code",
   "execution_count": 4,
   "id": "fb56cf9e",
   "metadata": {},
   "outputs": [
    {
     "data": {
      "text/plain": [
       "Index(['Unnamed: 0', 'Date reported', 'Alberta Health Services Zone', 'Gender',\n",
       "       'Age group', 'Case status', 'Case type'],\n",
       "      dtype='object')"
      ]
     },
     "execution_count": 4,
     "metadata": {},
     "output_type": "execute_result"
    }
   ],
   "source": [
    "cov.columns"
   ]
  },
  {
   "cell_type": "code",
   "execution_count": 5,
   "id": "ca24c305",
   "metadata": {},
   "outputs": [],
   "source": [
    "# Drop the built-in index column\n",
    "cov = cov.drop(['Unnamed: 0'], axis=1)"
   ]
  },
  {
   "cell_type": "code",
   "execution_count": 6,
   "id": "80aa0f49",
   "metadata": {},
   "outputs": [
    {
     "data": {
      "text/plain": [
       "0    2020-11-13\n",
       "1    2021-01-03\n",
       "2    2021-04-21\n",
       "3    2021-05-17\n",
       "4    2020-12-13\n",
       "Name: Date reported, dtype: object"
      ]
     },
     "execution_count": 6,
     "metadata": {},
     "output_type": "execute_result"
    }
   ],
   "source": [
    "cov['Date reported'].head()"
   ]
  },
  {
   "cell_type": "code",
   "execution_count": 7,
   "id": "a8ea009f",
   "metadata": {},
   "outputs": [],
   "source": [
    "cov['Date reported'] = pd.to_datetime(cov['Date reported'], format='%Y-%m-%d')"
   ]
  },
  {
   "cell_type": "code",
   "execution_count": 8,
   "id": "0da8d4f8",
   "metadata": {
    "scrolled": true
   },
   "outputs": [
    {
     "data": {
      "text/html": [
       "<div>\n",
       "<style scoped>\n",
       "    .dataframe tbody tr th:only-of-type {\n",
       "        vertical-align: middle;\n",
       "    }\n",
       "\n",
       "    .dataframe tbody tr th {\n",
       "        vertical-align: top;\n",
       "    }\n",
       "\n",
       "    .dataframe thead th {\n",
       "        text-align: right;\n",
       "    }\n",
       "</style>\n",
       "<table border=\"1\" class=\"dataframe\">\n",
       "  <thead>\n",
       "    <tr style=\"text-align: right;\">\n",
       "      <th></th>\n",
       "      <th>Date reported</th>\n",
       "      <th>Alberta Health Services Zone</th>\n",
       "      <th>Gender</th>\n",
       "      <th>Age group</th>\n",
       "      <th>Case status</th>\n",
       "      <th>Case type</th>\n",
       "    </tr>\n",
       "  </thead>\n",
       "  <tbody>\n",
       "    <tr>\n",
       "      <th>0</th>\n",
       "      <td>2020-11-13</td>\n",
       "      <td>Calgary Zone</td>\n",
       "      <td>Female</td>\n",
       "      <td>1-4 years</td>\n",
       "      <td>Recovered</td>\n",
       "      <td>Confirmed</td>\n",
       "    </tr>\n",
       "    <tr>\n",
       "      <th>1</th>\n",
       "      <td>2021-01-03</td>\n",
       "      <td>Calgary Zone</td>\n",
       "      <td>Female</td>\n",
       "      <td>5-9 years</td>\n",
       "      <td>Recovered</td>\n",
       "      <td>Confirmed</td>\n",
       "    </tr>\n",
       "    <tr>\n",
       "      <th>2</th>\n",
       "      <td>2021-04-21</td>\n",
       "      <td>Edmonton Zone</td>\n",
       "      <td>Male</td>\n",
       "      <td>30-39 years</td>\n",
       "      <td>Recovered</td>\n",
       "      <td>Confirmed</td>\n",
       "    </tr>\n",
       "    <tr>\n",
       "      <th>3</th>\n",
       "      <td>2021-05-17</td>\n",
       "      <td>North Zone</td>\n",
       "      <td>Male</td>\n",
       "      <td>10-19 years</td>\n",
       "      <td>Active</td>\n",
       "      <td>Confirmed</td>\n",
       "    </tr>\n",
       "    <tr>\n",
       "      <th>4</th>\n",
       "      <td>2020-12-13</td>\n",
       "      <td>Edmonton Zone</td>\n",
       "      <td>Male</td>\n",
       "      <td>5-9 years</td>\n",
       "      <td>Recovered</td>\n",
       "      <td>Confirmed</td>\n",
       "    </tr>\n",
       "  </tbody>\n",
       "</table>\n",
       "</div>"
      ],
      "text/plain": [
       "  Date reported Alberta Health Services Zone  Gender    Age group Case status  \\\n",
       "0    2020-11-13                 Calgary Zone  Female    1-4 years   Recovered   \n",
       "1    2021-01-03                 Calgary Zone  Female    5-9 years   Recovered   \n",
       "2    2021-04-21                Edmonton Zone    Male  30-39 years   Recovered   \n",
       "3    2021-05-17                   North Zone    Male  10-19 years      Active   \n",
       "4    2020-12-13                Edmonton Zone    Male    5-9 years   Recovered   \n",
       "\n",
       "   Case type  \n",
       "0  Confirmed  \n",
       "1  Confirmed  \n",
       "2  Confirmed  \n",
       "3  Confirmed  \n",
       "4  Confirmed  "
      ]
     },
     "execution_count": 8,
     "metadata": {},
     "output_type": "execute_result"
    }
   ],
   "source": [
    "cov.head()"
   ]
  },
  {
   "cell_type": "code",
   "execution_count": 9,
   "id": "fe8f4619",
   "metadata": {
    "scrolled": false
   },
   "outputs": [
    {
     "data": {
      "text/plain": [
       "Confirmed    221804\n",
       "Probable       2391\n",
       "Name: Case type, dtype: int64"
      ]
     },
     "execution_count": 9,
     "metadata": {},
     "output_type": "execute_result"
    }
   ],
   "source": [
    "cov['Case type'].value_counts()"
   ]
  },
  {
   "cell_type": "code",
   "execution_count": 10,
   "id": "da59958f",
   "metadata": {
    "scrolled": true
   },
   "outputs": [],
   "source": [
    "# bad variable names but its ok\n",
    "a = cov.resample('W', on='Date reported').count().cumsum()"
   ]
  },
  {
   "cell_type": "code",
   "execution_count": 11,
   "id": "68242ead",
   "metadata": {},
   "outputs": [],
   "source": [
    "b = cov.resample('2W', on='Date reported').count()"
   ]
  },
  {
   "cell_type": "code",
   "execution_count": 12,
   "id": "971288c9",
   "metadata": {},
   "outputs": [],
   "source": [
    "a = a['Case type']"
   ]
  },
  {
   "cell_type": "code",
   "execution_count": 13,
   "id": "987e2bd1",
   "metadata": {
    "scrolled": false
   },
   "outputs": [
    {
     "data": {
      "text/plain": [
       "Date reported\n",
       "2020-03-08       1\n",
       "2020-03-22     291\n",
       "2020-04-05     986\n",
       "2020-04-19    1422\n",
       "2020-05-03    2941\n",
       "Freq: 2W-SUN, Name: Case type, dtype: int64"
      ]
     },
     "execution_count": 13,
     "metadata": {},
     "output_type": "execute_result"
    }
   ],
   "source": [
    "b = b['Case type']\n",
    "b.head()"
   ]
  },
  {
   "cell_type": "code",
   "execution_count": 14,
   "id": "eedba9ea",
   "metadata": {
    "scrolled": true
   },
   "outputs": [
    {
     "data": {
      "image/png": "[encoded data removed]",
      "text/plain": [
       "<Figure size 1152x576 with 1 Axes>"
      ]
     },
     "metadata": {},
     "output_type": "display_data"
    }
   ],
   "source": [
    "# Time to plot data. This is basically the covid data found at \n",
    "# https://www.alberta.ca/stats/covid-19-alberta-statistics.htm#total-cases\n",
    "\n",
    "# However, it looks kind of weird because I simply plotted biweekly new cases,\n",
    "# assuming patients would recover in two weeks, instead of \"active cases\"\n",
    "# In the dataset, active cases are updated to \"recovered\" when a person recovers, so I can't really\n",
    "# emulate the plot they have I think.\n",
    "\n",
    "# uncomment this if u think ur funny\n",
    "# plt.xkcd()\n",
    "\n",
    "plt.style.use('ggplot')\n",
    "\n",
    "# get the subplots\n",
    "f, ax = plt.subplots(figsize=(16, 8))\n",
    "\n",
    "# plot data\n",
    "totalcaseline, = ax.plot(a)\n",
    "newcaseline, = ax.plot(b)\n",
    "\n",
    "# title\n",
    "fonts = [{'fontname':'Comic Sans MS', 'size': 24}, {'fontname':'Arial', 'size': 24}]\n",
    "csfont = fonts[1]\n",
    "plt.title('Covid Stats in Alberta', fontdict=csfont)\n",
    "plt.xlabel('Date', fontdict=csfont)\n",
    "plt.ylabel('Number of Cases', fontdict=csfont)\n",
    "\n",
    "# legend stuff\n",
    "totalcaseline.set_label('Total cases')\n",
    "newcaseline.set_label('Biweekly new cases')\n",
    "ax.legend()\n",
    "\n",
    "plt.yticks(np.arange(0, 230000, step=20000))\n",
    "plt.grid(color='k')\n",
    "plt.axhline(linewidth=1,color='k')\n",
    "plt.setp(ax.spines.values(), linewidth=2, color=\"k\")\n",
    "plt.show()"
   ]
  },
  {
   "cell_type": "code",
   "execution_count": 15,
   "id": "ba492fe2",
   "metadata": {
    "scrolled": true
   },
   "outputs": [
    {
     "data": {
      "text/plain": [
       "24655"
      ]
     },
     "execution_count": 15,
     "metadata": {},
     "output_type": "execute_result"
    }
   ],
   "source": [
    "b.max()"
   ]
  },
  {
   "cell_type": "code",
   "execution_count": 16,
   "id": "2b28eb66",
   "metadata": {},
   "outputs": [
    {
     "data": {
      "text/plain": [
       "Recovered    207486\n",
       "Active        14533\n",
       "Died           2176\n",
       "Name: Case status, dtype: int64"
      ]
     },
     "execution_count": 16,
     "metadata": {},
     "output_type": "execute_result"
    }
   ],
   "source": [
    "cov['Case status'].value_counts()\n",
    "# yeah that's around the active cases on this day. I can't completely emulate their graph but it's fine."
   ]
  },
  {
   "cell_type": "markdown",
   "id": "32580c4f",
   "metadata": {},
   "source": [
    "## BUT IMAGINE IF WE MADE A CLASSIFIER TO SEE WHO DIED LOMG SOUNDS COOL\n",
    "### I'll definitely try this in the future, but I'll look at the data some more and then the vaccine data first."
   ]
  },
  {
   "cell_type": "code",
   "execution_count": 17,
   "id": "437ff35b",
   "metadata": {
    "scrolled": true
   },
   "outputs": [
    {
     "data": {
      "text/html": [
       "<div>\n",
       "<style scoped>\n",
       "    .dataframe tbody tr th:only-of-type {\n",
       "        vertical-align: middle;\n",
       "    }\n",
       "\n",
       "    .dataframe tbody tr th {\n",
       "        vertical-align: top;\n",
       "    }\n",
       "\n",
       "    .dataframe thead th {\n",
       "        text-align: right;\n",
       "    }\n",
       "</style>\n",
       "<table border=\"1\" class=\"dataframe\">\n",
       "  <thead>\n",
       "    <tr style=\"text-align: right;\">\n",
       "      <th></th>\n",
       "      <th>Age group</th>\n",
       "      <th>Count</th>\n",
       "    </tr>\n",
       "  </thead>\n",
       "  <tbody>\n",
       "    <tr>\n",
       "      <th>0</th>\n",
       "      <td>1-4 years</td>\n",
       "      <td>8283</td>\n",
       "    </tr>\n",
       "    <tr>\n",
       "      <th>1</th>\n",
       "      <td>10-19 years</td>\n",
       "      <td>30131</td>\n",
       "    </tr>\n",
       "    <tr>\n",
       "      <th>2</th>\n",
       "      <td>20-29 years</td>\n",
       "      <td>40648</td>\n",
       "    </tr>\n",
       "    <tr>\n",
       "      <th>3</th>\n",
       "      <td>30-39 years</td>\n",
       "      <td>42662</td>\n",
       "    </tr>\n",
       "    <tr>\n",
       "      <th>4</th>\n",
       "      <td>40-49 years</td>\n",
       "      <td>35383</td>\n",
       "    </tr>\n",
       "    <tr>\n",
       "      <th>5</th>\n",
       "      <td>5-9 years</td>\n",
       "      <td>11592</td>\n",
       "    </tr>\n",
       "    <tr>\n",
       "      <th>6</th>\n",
       "      <td>50-59 years</td>\n",
       "      <td>26294</td>\n",
       "    </tr>\n",
       "    <tr>\n",
       "      <th>7</th>\n",
       "      <td>60-69 years</td>\n",
       "      <td>15138</td>\n",
       "    </tr>\n",
       "    <tr>\n",
       "      <th>8</th>\n",
       "      <td>70-79 years</td>\n",
       "      <td>6466</td>\n",
       "    </tr>\n",
       "    <tr>\n",
       "      <th>9</th>\n",
       "      <td>80+ years</td>\n",
       "      <td>6185</td>\n",
       "    </tr>\n",
       "    <tr>\n",
       "      <th>10</th>\n",
       "      <td>Under 1 year</td>\n",
       "      <td>1320</td>\n",
       "    </tr>\n",
       "    <tr>\n",
       "      <th>11</th>\n",
       "      <td>Unknown</td>\n",
       "      <td>93</td>\n",
       "    </tr>\n",
       "  </tbody>\n",
       "</table>\n",
       "</div>"
      ],
      "text/plain": [
       "       Age group  Count\n",
       "0      1-4 years   8283\n",
       "1    10-19 years  30131\n",
       "2    20-29 years  40648\n",
       "3    30-39 years  42662\n",
       "4    40-49 years  35383\n",
       "5      5-9 years  11592\n",
       "6    50-59 years  26294\n",
       "7    60-69 years  15138\n",
       "8    70-79 years   6466\n",
       "9      80+ years   6185\n",
       "10  Under 1 year   1320\n",
       "11       Unknown     93"
      ]
     },
     "execution_count": 17,
     "metadata": {},
     "output_type": "execute_result"
    }
   ],
   "source": [
    "# group by age, select one column cuz why not\n",
    "gender_distr = cov.groupby(['Age group']).count()['Gender']\n",
    "gender_distr = pd.DataFrame(gender_distr.reset_index())\n",
    "gender_distr.columns = ['Age group', 'Count']\n",
    "gender_distr"
   ]
  },
  {
   "cell_type": "code",
   "execution_count": 18,
   "id": "d174f0bb",
   "metadata": {},
   "outputs": [],
   "source": [
    "# stackoverflow code ayyy\n",
    "age_list = ['Under 1 year', '1-4 years', '5-9 years', '10-19 years', '20-29 years', '30-39 years', '40-49 years', \n",
    "            '50-59 years', '60-69 years', '70-79 years', '80+ years', 'Unknown']\n",
    "gender_distr['Age group'] = pd.Categorical(gender_distr['Age group'], age_list)\n",
    "gender_distr = gender_distr.sort_values('Age group')"
   ]
  },
  {
   "cell_type": "code",
   "execution_count": 22,
   "id": "a22583d2",
   "metadata": {},
   "outputs": [
    {
     "data": {
      "image/png": "[encoded data removed]",
      "text/plain": [
       "<Figure size 432x432 with 1 Axes>"
      ]
     },
     "metadata": {},
     "output_type": "display_data"
    }
   ],
   "source": [
    "ax = gender_distr.plot.bar('Age group', y='Count', width=1.0)\n",
    "f = plt.gcf()\n",
    "f.set_size_inches(6, 6)\n",
    "\n",
    "# stackoverflow code ayyy\n",
    "for i, v in enumerate(gender_distr['Count']):\n",
    "    ax.text(i-0.5, v+300, str(v), color='black', fontweight='regular', rotation=45)\n",
    "\n",
    "# styling\n",
    "plt.title('Alberta covid cases age breakdown', fontdict=csfont, pad=20.0)\n",
    "plt.xlabel('Age group', fontdict=csfont)\n",
    "plt.ylabel('Number of Cases', fontdict=csfont)\n",
    "plt.show()\n",
    "# ayy we plotted the distribution!! how cool.\n",
    "# doesn't look REALLY good, but we got a lot of features, which is good."
   ]
  },
  {
   "cell_type": "markdown",
   "id": "8a31646c",
   "metadata": {},
   "source": [
    "# let's look at vaccination data"
   ]
  },
  {
   "cell_type": "code",
   "execution_count": 26,
   "id": "74e86a60",
   "metadata": {
    "scrolled": true
   },
   "outputs": [
    {
     "data": {
      "text/html": [
       "<div>\n",
       "<style scoped>\n",
       "    .dataframe tbody tr th:only-of-type {\n",
       "        vertical-align: middle;\n",
       "    }\n",
       "\n",
       "    .dataframe tbody tr th {\n",
       "        vertical-align: top;\n",
       "    }\n",
       "\n",
       "    .dataframe thead th {\n",
       "        text-align: right;\n",
       "    }\n",
       "</style>\n",
       "<table border=\"1\" class=\"dataframe\">\n",
       "  <thead>\n",
       "    <tr style=\"text-align: right;\">\n",
       "      <th></th>\n",
       "      <th>Local Code</th>\n",
       "      <th>Age Group</th>\n",
       "      <th>Population</th>\n",
       "      <th># of population with at least 1 dose</th>\n",
       "      <th>Percent of population who received at least one dose</th>\n",
       "      <th># of population fully immunized</th>\n",
       "      <th>Percent of population fully immunized</th>\n",
       "      <th>Local Name</th>\n",
       "      <th>Zone Name</th>\n",
       "    </tr>\n",
       "  </thead>\n",
       "  <tbody>\n",
       "    <tr>\n",
       "      <th>0</th>\n",
       "      <td>Z1.1.A.01</td>\n",
       "      <td>12-19 years</td>\n",
       "      <td>305</td>\n",
       "      <td>113</td>\n",
       "      <td>37.1</td>\n",
       "      <td>0</td>\n",
       "      <td>0.0</td>\n",
       "      <td>CROWSNEST PASS</td>\n",
       "      <td>SOUTH</td>\n",
       "    </tr>\n",
       "    <tr>\n",
       "      <th>1</th>\n",
       "      <td>Z1.1.A.01</td>\n",
       "      <td>20-39 years</td>\n",
       "      <td>1322</td>\n",
       "      <td>458</td>\n",
       "      <td>34.6</td>\n",
       "      <td>58</td>\n",
       "      <td>4.4</td>\n",
       "      <td>CROWSNEST PASS</td>\n",
       "      <td>SOUTH</td>\n",
       "    </tr>\n",
       "    <tr>\n",
       "      <th>2</th>\n",
       "      <td>Z1.1.A.01</td>\n",
       "      <td>40-59 years</td>\n",
       "      <td>1617</td>\n",
       "      <td>899</td>\n",
       "      <td>55.6</td>\n",
       "      <td>81</td>\n",
       "      <td>5.0</td>\n",
       "      <td>CROWSNEST PASS</td>\n",
       "      <td>SOUTH</td>\n",
       "    </tr>\n",
       "    <tr>\n",
       "      <th>3</th>\n",
       "      <td>Z1.1.A.01</td>\n",
       "      <td>60-74 years</td>\n",
       "      <td>1633</td>\n",
       "      <td>1243</td>\n",
       "      <td>76.1</td>\n",
       "      <td>107</td>\n",
       "      <td>6.6</td>\n",
       "      <td>CROWSNEST PASS</td>\n",
       "      <td>SOUTH</td>\n",
       "    </tr>\n",
       "    <tr>\n",
       "      <th>4</th>\n",
       "      <td>Z1.1.A.01</td>\n",
       "      <td>75+ years</td>\n",
       "      <td>618</td>\n",
       "      <td>504</td>\n",
       "      <td>81.6</td>\n",
       "      <td>426</td>\n",
       "      <td>69.0</td>\n",
       "      <td>CROWSNEST PASS</td>\n",
       "      <td>SOUTH</td>\n",
       "    </tr>\n",
       "    <tr>\n",
       "      <th>5</th>\n",
       "      <td>Z1.1.A.01</td>\n",
       "      <td>All age years</td>\n",
       "      <td>6358</td>\n",
       "      <td>3224</td>\n",
       "      <td>50.7</td>\n",
       "      <td>672</td>\n",
       "      <td>10.6</td>\n",
       "      <td>CROWSNEST PASS</td>\n",
       "      <td>SOUTH</td>\n",
       "    </tr>\n",
       "    <tr>\n",
       "      <th>6</th>\n",
       "      <td>Z1.1.A.02</td>\n",
       "      <td>12-19 years</td>\n",
       "      <td>489</td>\n",
       "      <td>228</td>\n",
       "      <td>46.7</td>\n",
       "      <td>7</td>\n",
       "      <td>1.4</td>\n",
       "      <td>PINCHER CREEK</td>\n",
       "      <td>SOUTH</td>\n",
       "    </tr>\n",
       "    <tr>\n",
       "      <th>7</th>\n",
       "      <td>Z1.1.A.02</td>\n",
       "      <td>20-39 years</td>\n",
       "      <td>1971</td>\n",
       "      <td>794</td>\n",
       "      <td>40.3</td>\n",
       "      <td>115</td>\n",
       "      <td>5.8</td>\n",
       "      <td>PINCHER CREEK</td>\n",
       "      <td>SOUTH</td>\n",
       "    </tr>\n",
       "    <tr>\n",
       "      <th>8</th>\n",
       "      <td>Z1.1.A.02</td>\n",
       "      <td>40-59 years</td>\n",
       "      <td>1929</td>\n",
       "      <td>1096</td>\n",
       "      <td>56.8</td>\n",
       "      <td>219</td>\n",
       "      <td>11.4</td>\n",
       "      <td>PINCHER CREEK</td>\n",
       "      <td>SOUTH</td>\n",
       "    </tr>\n",
       "    <tr>\n",
       "      <th>9</th>\n",
       "      <td>Z1.1.A.02</td>\n",
       "      <td>60-74 years</td>\n",
       "      <td>1749</td>\n",
       "      <td>1337</td>\n",
       "      <td>76.4</td>\n",
       "      <td>236</td>\n",
       "      <td>13.5</td>\n",
       "      <td>PINCHER CREEK</td>\n",
       "      <td>SOUTH</td>\n",
       "    </tr>\n",
       "  </tbody>\n",
       "</table>\n",
       "</div>"
      ],
      "text/plain": [
       "  Local Code      Age Group  Population  # of population with at least 1 dose  \\\n",
       "0  Z1.1.A.01    12-19 years         305                                   113   \n",
       "1  Z1.1.A.01    20-39 years        1322                                   458   \n",
       "2  Z1.1.A.01    40-59 years        1617                                   899   \n",
       "3  Z1.1.A.01    60-74 years        1633                                  1243   \n",
       "4  Z1.1.A.01      75+ years         618                                   504   \n",
       "5  Z1.1.A.01  All age years        6358                                  3224   \n",
       "6  Z1.1.A.02    12-19 years         489                                   228   \n",
       "7  Z1.1.A.02    20-39 years        1971                                   794   \n",
       "8  Z1.1.A.02    40-59 years        1929                                  1096   \n",
       "9  Z1.1.A.02    60-74 years        1749                                  1337   \n",
       "\n",
       "   Percent of population who received at least one dose  \\\n",
       "0                                               37.1      \n",
       "1                                               34.6      \n",
       "2                                               55.6      \n",
       "3                                               76.1      \n",
       "4                                               81.6      \n",
       "5                                               50.7      \n",
       "6                                               46.7      \n",
       "7                                               40.3      \n",
       "8                                               56.8      \n",
       "9                                               76.4      \n",
       "\n",
       "   # of population fully immunized  Percent of population fully immunized  \\\n",
       "0                                0                                    0.0   \n",
       "1                               58                                    4.4   \n",
       "2                               81                                    5.0   \n",
       "3                              107                                    6.6   \n",
       "4                              426                                   69.0   \n",
       "5                              672                                   10.6   \n",
       "6                                7                                    1.4   \n",
       "7                              115                                    5.8   \n",
       "8                              219                                   11.4   \n",
       "9                              236                                   13.5   \n",
       "\n",
       "       Local Name Zone Name  \n",
       "0  CROWSNEST PASS     SOUTH  \n",
       "1  CROWSNEST PASS     SOUTH  \n",
       "2  CROWSNEST PASS     SOUTH  \n",
       "3  CROWSNEST PASS     SOUTH  \n",
       "4  CROWSNEST PASS     SOUTH  \n",
       "5  CROWSNEST PASS     SOUTH  \n",
       "6   PINCHER CREEK     SOUTH  \n",
       "7   PINCHER CREEK     SOUTH  \n",
       "8   PINCHER CREEK     SOUTH  \n",
       "9   PINCHER CREEK     SOUTH  "
      ]
     },
     "execution_count": 26,
     "metadata": {},
     "output_type": "execute_result"
    }
   ],
   "source": [
    "vac.head(10)"
   ]
  },
  {
   "cell_type": "code",
   "execution_count": 27,
   "id": "16b8a233",
   "metadata": {},
   "outputs": [
    {
     "data": {
      "text/plain": [
       "NORTH       198\n",
       "CALGARY     174\n",
       "CENTRAL     174\n",
       "EDMONTON    156\n",
       "SOUTH        90\n",
       "Name: Zone Name, dtype: int64"
      ]
     },
     "execution_count": 27,
     "metadata": {},
     "output_type": "execute_result"
    }
   ],
   "source": [
    "# oh so it's data for zones... interesting...\n",
    "# let's see how many people in each zone have been given at least 1 dose.\n",
    "vac['Zone Name'].value_counts()"
   ]
  },
  {
   "cell_type": "code",
   "execution_count": 28,
   "id": "c9e8bf2b",
   "metadata": {},
   "outputs": [
    {
     "data": {
      "text/plain": [
       "BEAUMONT                      6\n",
       "VULCAN                        6\n",
       "WETASKIWIN COUNTY             6\n",
       "EDMONTON - BONNIE DOON        6\n",
       "TWO HILLS COUNTY              6\n",
       "                             ..\n",
       "VALLEYVIEW                    6\n",
       "CALGARY - WEST                6\n",
       "CALGARY - SW                  6\n",
       "STRATHMORE                    6\n",
       "STONY PLAIN & SPRUCE GROVE    6\n",
       "Name: Local Name, Length: 132, dtype: int64"
      ]
     },
     "execution_count": 28,
     "metadata": {},
     "output_type": "execute_result"
    }
   ],
   "source": [
    "vac['Local Name'].value_counts()"
   ]
  },
  {
   "cell_type": "code",
   "execution_count": 29,
   "id": "e636bc4d",
   "metadata": {},
   "outputs": [
    {
     "data": {
      "text/html": [
       "<div>\n",
       "<style scoped>\n",
       "    .dataframe tbody tr th:only-of-type {\n",
       "        vertical-align: middle;\n",
       "    }\n",
       "\n",
       "    .dataframe tbody tr th {\n",
       "        vertical-align: top;\n",
       "    }\n",
       "\n",
       "    .dataframe thead th {\n",
       "        text-align: right;\n",
       "    }\n",
       "</style>\n",
       "<table border=\"1\" class=\"dataframe\">\n",
       "  <thead>\n",
       "    <tr style=\"text-align: right;\">\n",
       "      <th></th>\n",
       "      <th>Population</th>\n",
       "      <th># of population with at least 1 dose</th>\n",
       "      <th>Zone Name</th>\n",
       "    </tr>\n",
       "  </thead>\n",
       "  <tbody>\n",
       "    <tr>\n",
       "      <th>0</th>\n",
       "      <td>305</td>\n",
       "      <td>113</td>\n",
       "      <td>SOUTH</td>\n",
       "    </tr>\n",
       "    <tr>\n",
       "      <th>1</th>\n",
       "      <td>1322</td>\n",
       "      <td>458</td>\n",
       "      <td>SOUTH</td>\n",
       "    </tr>\n",
       "    <tr>\n",
       "      <th>2</th>\n",
       "      <td>1617</td>\n",
       "      <td>899</td>\n",
       "      <td>SOUTH</td>\n",
       "    </tr>\n",
       "    <tr>\n",
       "      <th>3</th>\n",
       "      <td>1633</td>\n",
       "      <td>1243</td>\n",
       "      <td>SOUTH</td>\n",
       "    </tr>\n",
       "    <tr>\n",
       "      <th>4</th>\n",
       "      <td>618</td>\n",
       "      <td>504</td>\n",
       "      <td>SOUTH</td>\n",
       "    </tr>\n",
       "  </tbody>\n",
       "</table>\n",
       "</div>"
      ],
      "text/plain": [
       "   Population  # of population with at least 1 dose Zone Name\n",
       "0         305                                   113     SOUTH\n",
       "1        1322                                   458     SOUTH\n",
       "2        1617                                   899     SOUTH\n",
       "3        1633                                  1243     SOUTH\n",
       "4         618                                   504     SOUTH"
      ]
     },
     "execution_count": 29,
     "metadata": {},
     "output_type": "execute_result"
    }
   ],
   "source": [
    "zone_df = vac[[v, '# of population with at least 1 dose', 'Zone Name']]\n",
    "zone_df.head()"
   ]
  },
  {
   "cell_type": "code",
   "execution_count": 31,
   "id": "74f282d1",
   "metadata": {},
   "outputs": [],
   "source": [
    "zone_df = zone_df.groupby(['Zone Name']).sum()"
   ]
  },
  {
   "cell_type": "code",
   "execution_count": 34,
   "id": "a9ee2ddd",
   "metadata": {},
   "outputs": [],
   "source": [
    "zone_df['% with 1 dose'] = zone_df['# of population with at least 1 dose'] / zone_df['Population']"
   ]
  },
  {
   "cell_type": "code",
   "execution_count": 35,
   "id": "a7dd3b97",
   "metadata": {},
   "outputs": [
    {
     "data": {
      "text/html": [
       "<div>\n",
       "<style scoped>\n",
       "    .dataframe tbody tr th:only-of-type {\n",
       "        vertical-align: middle;\n",
       "    }\n",
       "\n",
       "    .dataframe tbody tr th {\n",
       "        vertical-align: top;\n",
       "    }\n",
       "\n",
       "    .dataframe thead th {\n",
       "        text-align: right;\n",
       "    }\n",
       "</style>\n",
       "<table border=\"1\" class=\"dataframe\">\n",
       "  <thead>\n",
       "    <tr style=\"text-align: right;\">\n",
       "      <th></th>\n",
       "      <th>Population</th>\n",
       "      <th># of population with at least 1 dose</th>\n",
       "      <th>% with 1 dose</th>\n",
       "    </tr>\n",
       "    <tr>\n",
       "      <th>Zone Name</th>\n",
       "      <th></th>\n",
       "      <th></th>\n",
       "      <th></th>\n",
       "    </tr>\n",
       "  </thead>\n",
       "  <tbody>\n",
       "    <tr>\n",
       "      <th>CALGARY</th>\n",
       "      <td>3160544</td>\n",
       "      <td>1716449</td>\n",
       "      <td>0.543087</td>\n",
       "    </tr>\n",
       "    <tr>\n",
       "      <th>CENTRAL</th>\n",
       "      <td>871529</td>\n",
       "      <td>403768</td>\n",
       "      <td>0.463287</td>\n",
       "    </tr>\n",
       "    <tr>\n",
       "      <th>EDMONTON</th>\n",
       "      <td>2663565</td>\n",
       "      <td>1497210</td>\n",
       "      <td>0.562108</td>\n",
       "    </tr>\n",
       "    <tr>\n",
       "      <th>NORTH</th>\n",
       "      <td>866997</td>\n",
       "      <td>351726</td>\n",
       "      <td>0.405683</td>\n",
       "    </tr>\n",
       "    <tr>\n",
       "      <th>SOUTH</th>\n",
       "      <td>568148</td>\n",
       "      <td>295129</td>\n",
       "      <td>0.519458</td>\n",
       "    </tr>\n",
       "  </tbody>\n",
       "</table>\n",
       "</div>"
      ],
      "text/plain": [
       "           Population  # of population with at least 1 dose  % with 1 dose\n",
       "Zone Name                                                                 \n",
       "CALGARY       3160544                               1716449       0.543087\n",
       "CENTRAL        871529                                403768       0.463287\n",
       "EDMONTON      2663565                               1497210       0.562108\n",
       "NORTH          866997                                351726       0.405683\n",
       "SOUTH          568148                                295129       0.519458"
      ]
     },
     "execution_count": 35,
     "metadata": {},
     "output_type": "execute_result"
    }
   ],
   "source": [
    "zone_df.head()"
   ]
  },
  {
   "cell_type": "code",
   "execution_count": 38,
   "id": "6fa4c738",
   "metadata": {},
   "outputs": [
    {
     "data": {
      "image/png": "[encoded data removed]",
      "text/plain": [
       "<Figure size 432x288 with 1 Axes>"
      ]
     },
     "metadata": {},
     "output_type": "display_data"
    }
   ],
   "source": [
    "# Let's just visualize it, why not\n",
    "ax = zone_df.plot.bar(y='% with 1 dose', width=0.8)"
   ]
  },
  {
   "cell_type": "code",
   "execution_count": null,
   "id": "7e56c5ee",
   "metadata": {},
   "outputs": [],
   "source": []
  }
 ],
 "metadata": {
  "kernelspec": {
   "display_name": "Python 3",
   "language": "python",
   "name": "python3"
  },
  "language_info": {
   "codemirror_mode": {
    "name": "ipython",
    "version": 3
   },
   "file_extension": ".py",
   "mimetype": "text/x-python",
   "name": "python",
   "nbconvert_exporter": "python",
   "pygments_lexer": "ipython3",
   "version": "3.9.1"
  }
 },
 "nbformat": 4,
 "nbformat_minor": 5
}
